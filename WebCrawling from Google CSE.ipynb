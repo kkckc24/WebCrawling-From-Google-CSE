{
 "cells": [
  {
   "cell_type": "code",
   "execution_count": 17,
   "metadata": {
    "collapsed": true
   },
   "outputs": [],
   "source": [
    "# -*- coding:utf-8 -*-\n",
    "# library is required for the test\n",
    "# pip install --upgrade google-api-python-client \n",
    "from googleapiclient.discovery import build\n",
    "import pprint\n",
    "import time, re, requests, os\n",
    "from bs4 import BeautifulSoup\n",
    "import urllib.parse"
   ]
  },
  {
   "cell_type": "code",
   "execution_count": 18,
   "metadata": {
    "collapsed": true
   },
   "outputs": [],
   "source": [
    "# You have to take a key from google CSE\n",
    "# You can get an API key from https://developers.google.com/maps/documentation/javascript/get-api-key?hl=ko#key\n",
    "my_api_key = \"** YOUR API KEY **\"\n",
    "\n",
    "# You can setup the CSE and get CSE_ID from https://cse.google.com/cse/all\n",
    "# You can add searching site in GUI interface \n",
    "# but it seems like *only one site per key is working properly* at the moment (17.06.05)\n",
    "my_cse_id= \"** YOUR CSE ID **\"\n",
    "\n",
    "# Insert the site in the CSE setup\n",
    "search_site = \"** SITE in the CSE setup **\""
   ]
  },
  {
   "cell_type": "code",
   "execution_count": 19,
   "metadata": {
    "collapsed": true
   },
   "outputs": [],
   "source": [
    "# do Search with Saving\n",
    "def doSearchWithSaving(search_term):\n",
    "    search_term.replace(\" \", \"+\")\n",
    "    NextPage=0\n",
    "    cur = 0\n",
    "    while NextPage!=-1:\n",
    "        #print(\"CUR : \" ,cur)\n",
    "        linkSet, NextPage, NumOfResult = getGoogleSearchLink(search_term, search_site, NextPage)\n",
    "        for idx, link_url in enumerate(linkSet):\n",
    "            filename='{}/[{}of{}]_{}.txt'.format(search_site, cur+1, NumOfResult, search_term.replace(\" \",\"_\"))\n",
    "            SaveLinkToFile(filename, link_url)\n",
    "            cur += 1\n",
    "        time.sleep(1)\n",
    "        if cur>100:\n",
    "            print(\"Finish\")\n",
    "            break\n",
    "\n",
    "# Google Search Func\n",
    "def google_search_init(search_term, api_key, cse_id, **kwargs):\n",
    "    service = build(\"customsearch\", \"v1\", developerKey=api_key)\n",
    "    res = service.cse().list(q=search_term, cx=cse_id, **kwargs).execute()\n",
    "    return res\n",
    "\n",
    "# Get Google Search Links of the website\n",
    "def getGoogleSearchLink(search_term, search_site, cur_page):\n",
    "    #start=res['queries']['nextPage'][0]['startIndex'],\n",
    "    queryStr = '{} site:{}'.format(search_term, search_site)\n",
    "    if cur_page==0:\n",
    "        results = google_search_init(queryStr, my_api_key, my_cse_id, num=10)\n",
    "    else:\n",
    "        results = google_search_init(queryStr, my_api_key, my_cse_id, num=10, start=cur_page)\n",
    "    links = [k['link'] for k in results['items']]\n",
    "    NumOfResult = results['queries']['request'][0]['totalResults']\n",
    "    if results['queries'].get('nextPage'):\n",
    "        NextPage=results['queries']['nextPage'][0]['startIndex']\n",
    "    else:\n",
    "        NextPage=-1\n",
    "    return links, NextPage, int(NumOfResult)\n",
    "\n",
    "# Save URL to FILE\n",
    "def SaveLinkToFile(filename, link_url):\n",
    "    r = requests.get(link_url)\n",
    "    soup = BeautifulSoup(r.content, 'html.parser') #  encoding='utf-8'\n",
    "    [s.extract() for s in soup(['style', 'script', '[document]', 'head', 'title'])]\n",
    "    visible_text = soup.getText()\n",
    "    dirname = os.path.dirname(filename)\n",
    "    if not os.path.exists(dirname):\n",
    "        os.makedirs(dirname)\n",
    "    with open(filename, 'wt', encoding='utf-8') as fwrite:\n",
    "        fwrite.write(visible_text)\n",
    "        fwrite.close()"
   ]
  },
  {
   "cell_type": "code",
   "execution_count": 16,
   "metadata": {
    "collapsed": false
   },
   "outputs": [],
   "source": [
    "# Test Code \n",
    "# Google CSE provides 10 pages of result and 100 query per day\n",
    "doSearchWithSaving(\"송도 파스타\")"
   ]
  }
 ],
 "metadata": {
  "kernelspec": {
   "display_name": "Python 3",
   "language": "python",
   "name": "python3"
  },
  "language_info": {
   "codemirror_mode": {
    "name": "ipython",
    "version": 3
   },
   "file_extension": ".py",
   "mimetype": "text/x-python",
   "name": "python",
   "nbconvert_exporter": "python",
   "pygments_lexer": "ipython3",
   "version": "3.6.0"
  }
 },
 "nbformat": 4,
 "nbformat_minor": 2
}
